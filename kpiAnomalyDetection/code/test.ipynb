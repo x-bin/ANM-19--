{
 "cells": [
  {
   "cell_type": "code",
   "execution_count": 1,
   "metadata": {},
   "outputs": [
    {
     "name": "stderr",
     "output_type": "stream",
     "text": [
      "Using TensorFlow backend.\n"
     ]
    },
    {
     "name": "stdout",
     "output_type": "stream",
     "text": [
      "1.17.4\n"
     ]
    }
   ],
   "source": [
    "import os\n",
    "#os.environ[\"CUDA_DEVICE_ORDER\"] = \"PCI_BUS_ID\"   # see issue #152z\n",
    "#os.environ[\"CUDA_VISIBLE_DEVICES\"] = \"\"\n",
    "\n",
    "# Input data files are available in the \"../input/\" directory.\n",
    "# For example, running this will list the files in the input directory\n",
    "\n",
    "import numpy as np   # linear algebra\n",
    "import sklearn\n",
    "import keras\n",
    "import matplotlib.pyplot as plt\n",
    "from sklearn.preprocessing import minmax_scale\n",
    "print(np.__version__)\n",
    "\n"
   ]
  },
  {
   "cell_type": "code",
   "execution_count": 2,
   "metadata": {},
   "outputs": [],
   "source": [
    "train_data = np.loadtxt('../input/train.csv', str, delimiter = ',', skiprows=1)\n",
    "train_value = np.loadtxt('../input/train.csv', delimiter = ',', skiprows=1, usecols=[1])\n",
    "leng_all = len(train_data)"
   ]
  },
  {
   "cell_type": "code",
   "execution_count": 3,
   "metadata": {},
   "outputs": [
    {
     "data": {
      "text/plain": [
       "(2476315,)"
      ]
     },
     "execution_count": 3,
     "metadata": {},
     "output_type": "execute_result"
    }
   ],
   "source": [
    "train_value.reshape(leng_all,1)\n",
    "train_value.shape"
   ]
  },
  {
   "cell_type": "code",
   "execution_count": 4,
   "metadata": {},
   "outputs": [
    {
     "name": "stdout",
     "output_type": "stream",
     "text": [
      "[array([1.90163934, 1.78688526, 2.        , ..., 2.61403513, 2.73684216,\n",
      "       2.4912281 ]), array([ 0.83281839, -0.04328661,  0.06622652, ...,  0.50427902,\n",
      "        0.61379214,  0.50427902]), array([0.19757504, 0.14987727, 0.07889324, ..., 0.08827026, 0.09042697,\n",
      "       0.07923706]), array([9.13373376e+08, 9.01925824e+08, 9.15506240e+08, ...,\n",
      "       9.60516800e+08, 9.61848768e+08, 9.62367296e+08]), array([2.25      , 3.1500001 , 3.04999995, ..., 5.44999981, 6.80000019,\n",
      "       5.69999981]), array([1204.625 , 1182.25  , 1155.1875, ..., 1371.375 , 1381.0625,\n",
      "       1376.9375]), array([ 628.,  766.,  858., ..., 1668., 1698., 1670.]), array([-1.04808758, -1.01906734, -0.96832112, ...,  1.03450159,\n",
      "        0.77182508,  1.00960628]), array([1839., 1842., 1947., ..., 1497., 1532., 1587.]), array([0.10381233, 0.10144436, 0.10412569, ..., 0.13573759, 0.13261388,\n",
      "       0.12666015]), array([0.09563687, 0.09369217, 0.1014476 , ..., 0.13831563, 0.14613896,\n",
      "       0.12443224]), array([2109., 2064., 2089., ..., 2485., 2565., 2587.]), array([0.06569227, 0.06518169, 0.0652405 , ..., 0.16059695, 0.16039321,\n",
      "       0.15962814]), array([0.13975353, 0.13973408, 0.14569608, ..., 0.14824456, 0.14803056,\n",
      "       0.15281625]), array([2010., 1912., 1888., ..., 2451., 2475., 2651.]), array([8140., 7861., 7628., ..., 3182., 3452., 3501.]), array([27.23077011, 29.84615326, 28.61538506, ..., 37.25      ,\n",
      "       36.66666794, 37.        ]), array([0.04368586, 0.04314696, 0.04283443, ..., 0.21278852, 0.21410872,\n",
      "       0.21487935]), array([2065., 2099., 1940., ..., 2300., 2384., 2291.]), array([0., 0., 0., ..., 0., 0., 0.]), array([2015., 1942., 2054., ..., 2795., 2726., 2638.]), array([-1.19854279, -1.37442899, -1.23424938, ...,  1.11240377,\n",
      "        1.07539237,  1.335341  ]), array([1.06734995e+09, 1.05601555e+09, 1.05589376e+09, ...,\n",
      "       1.00463066e+09, 1.09299085e+09, 1.08772019e+09]), array([1848., 1850., 1923., ..., 1476., 1625., 1588.]), array([1.66666663, 1.83333337, 1.75      , ..., 5.        , 4.91666651,\n",
      "       4.66666651]), array([7934., 7782., 7349., ..., 3508., 3341., 3210.])]\n"
     ]
    }
   ],
   "source": [
    "id_list = np.unique(train_data[:,3])\n",
    "timeseries_all = []\n",
    "\n",
    "\n",
    "for kpi_id in id_list:\n",
    "    mask = (train_data[:, 3]==kpi_id)\n",
    "    timeseries_all.append(train_value[mask])\n",
    "print(timeseries_all)\n"
   ]
  },
  {
   "cell_type": "code",
   "execution_count": 5,
   "metadata": {
    "scrolled": true
   },
   "outputs": [
    {
     "name": "stdout",
     "output_type": "stream",
     "text": [
      "26\n"
     ]
    }
   ],
   "source": [
    "from sklearn import preprocessing\n",
    "from sklearn.preprocessing import StandardScaler\n",
    "import random\n",
    "\n",
    "timeseries_num = len(timeseries_all)\n",
    "print(timeseries_num)"
   ]
  },
  {
   "cell_type": "code",
   "execution_count": 9,
   "metadata": {},
   "outputs": [
    {
     "data": {
      "text/plain": [
       "array([0., 0., 0., ..., 1., 1., 1.])"
      ]
     },
     "execution_count": 9,
     "metadata": {},
     "output_type": "execute_result"
    }
   ],
   "source": [
    "train_label = np.loadtxt('../input/train.csv', delimiter = ',', skiprows=1, usecols=[2])\n",
    "train_label"
   ]
  },
  {
   "cell_type": "code",
   "execution_count": 10,
   "metadata": {
    "scrolled": true
   },
   "outputs": [
    {
     "name": "stdout",
     "output_type": "stream",
     "text": [
      "[array([0., 0., 0., ..., 0., 0., 0.]), array([0., 0., 0., ..., 0., 0., 0.]), array([0., 0., 0., ..., 0., 0., 0.]), array([0., 0., 0., ..., 0., 0., 0.]), array([0., 0., 0., ..., 0., 0., 0.]), array([0., 0., 0., ..., 0., 0., 0.]), array([0., 0., 0., ..., 0., 0., 0.]), array([0., 0., 0., ..., 0., 0., 0.]), array([0., 0., 0., ..., 0., 0., 0.]), array([0., 0., 0., ..., 0., 0., 0.]), array([0., 0., 0., ..., 0., 0., 0.]), array([0., 0., 0., ..., 0., 0., 0.]), array([0., 0., 0., ..., 1., 1., 1.]), array([0., 0., 0., ..., 0., 0., 0.]), array([0., 0., 0., ..., 0., 0., 0.]), array([0., 0., 0., ..., 0., 0., 0.]), array([0., 0., 0., ..., 0., 0., 0.]), array([0., 0., 0., ..., 0., 0., 0.]), array([0., 0., 0., ..., 0., 0., 0.]), array([0., 0., 0., ..., 0., 0., 0.]), array([0., 0., 0., ..., 0., 0., 0.]), array([0., 0., 0., ..., 0., 0., 0.]), array([0., 0., 0., ..., 0., 0., 0.]), array([0., 0., 0., ..., 0., 0., 0.]), array([0., 0., 0., ..., 0., 0., 0.]), array([0., 0., 0., ..., 0., 0., 0.])]\n"
     ]
    }
   ],
   "source": [
    "timeseries_label = []\n",
    "for kpi_id in id_list:\n",
    "    mask = (train_data[:, 3]==kpi_id)\n",
    "    timeseries_label.append(train_label[mask])\n",
    "print(timeseries_label)"
   ]
  },
  {
   "cell_type": "code",
   "execution_count": 13,
   "metadata": {},
   "outputs": [],
   "source": [
    "assert(len(timeseries_all) == len(timeseries_label))\n",
    "for i in range(timeseries_num):\n",
    "    assert(timeseries_all[i].shape == timeseries_label[i].shape)"
   ]
  },
  {
   "cell_type": "markdown",
   "metadata": {},
   "source": [
    "完成了 timeseries_all (26 个 kpi 值的时间序列所组成的列表）以及 timeseries_label（26 个 kpi 标注序列所组成的列表）的提取\n",
    "\n",
    "接下来开始数据的预处理\n",
    "\n",
    "（1）异常样本的过采样\n",
    "（2）特征提取\n",
    "\n",
    "\n"
   ]
  },
  {
   "cell_type": "code",
   "execution_count": 26,
   "metadata": {},
   "outputs": [
    {
     "name": "stdout",
     "output_type": "stream",
     "text": [
      "[10, 108, 82, 540, 14, 11, 151, 2060, 131, 974, 99, 345, 19, 2194, 244, 46, 897, 20, 360, 4435, 251, 685, 1036, 134, 15, 46]\n"
     ]
    }
   ],
   "source": [
    "from collections import Counter\n",
    "oversample_ratio_list = []\n",
    "for i in range(timeseries_num):\n",
    "    temp = [0, 0]\n",
    "    c = Counter(timeseries_label[i])\n",
    "    for key,value in c.items():\n",
    "        temp[int(key)] = value\n",
    "    oversample_ratio = round((temp[0] - temp[1])/temp[1])\n",
    "    oversample_ratio_list.append(oversample_ratio)\n",
    "print(oversample_ratio_list)"
   ]
  },
  {
   "cell_type": "code",
   "execution_count": 28,
   "metadata": {
    "scrolled": true
   },
   "outputs": [
    {
     "name": "stdout",
     "output_type": "stream",
     "text": [
      "Counter({0.0: 118012, 1.0: 105500})\n",
      "Counter({0.0: 8704, 1.0: 8640})\n",
      "Counter({0.0: 10830, 1.0: 10660})\n",
      "Counter({0.0: 128733, 1.0: 128520})\n",
      "Counter({0.0: 121265, 1.0: 110082})\n",
      "Counter({0.0: 119272, 1.0: 105391})\n",
      "Counter({0.0: 99600, 1.0: 98754})\n",
      "Counter({0.0: 8244, 1.0: 8240})\n",
      "Counter({0.0: 146555, 1.0: 145803})\n",
      "Counter({0.0: 8775, 1.0: 8766})\n",
      "Counter({0.0: 8697, 1.0: 8613})\n",
      "Counter({0.0: 147263, 1.0: 146970})\n",
      "Counter({0.0: 62330, 1.0: 59014})\n",
      "Counter({0.0: 8780, 1.0: 8776})\n",
      "Counter({0.0: 128926, 1.0: 128588})\n",
      "Counter({0.0: 143926, 1.0: 141818})\n",
      "Counter({0.0: 128470, 1.0: 128271})\n",
      "Counter({0.0: 62504, 1.0: 58900})\n",
      "Counter({0.0: 137544, 1.0: 137160})\n",
      "Counter({0.0: 128650, 1.0: 128615})\n",
      "Counter({0.0: 147096, 1.0: 146584})\n",
      "Counter({0.0: 8235, 1.0: 8220})\n",
      "Counter({0.0: 128543, 1.0: 128464})\n",
      "Counter({0.0: 146542, 1.0: 145658})\n",
      "Counter({0.0: 121369, 1.0: 114990})\n",
      "Counter({0.0: 143950, 1.0: 141404})\n"
     ]
    }
   ],
   "source": [
    "timeseries_oversample = []\n",
    "timeseries_label_oversample = []\n",
    "for i in range(timeseries_num):\n",
    "    oversample_temp = []\n",
    "    oversample_label_temp = []\n",
    "    find_before = False\n",
    "    before_anomaly_loc = 0\n",
    "    for j in range(len(timeseries_all[i])):\n",
    "        if int(timeseries_label[i][j]) == 1:\n",
    "            ratio = oversample_ratio_list[i]\n",
    "            if find_before:\n",
    "                for k in range(ratio):\n",
    "                    average_random = random.random()\n",
    "                    oversample_temp.append(timeseries_all[i][j]*average_random + timeseries_all[i][before_anomaly_loc]*(1-average_random))\n",
    "                    oversample_label_temp.append(1.0)\n",
    "            else:\n",
    "                for k in range(ratio):\n",
    "                    oversample_temp.append(timeseries_all[i][j] * (1 + random.randint(-5,5)/100))\n",
    "                    oversample_label_temp.append(1.0)\n",
    "                find_before = True\n",
    "                before_anomaly_loc = j\n",
    "        else:\n",
    "            oversample_temp.append(timeseries_all[i][j])\n",
    "            oversample_label_temp.append(timeseries_label[i][j])\n",
    "            find_before = False\n",
    "    timeseries_oversample.append(np.asarray(oversample_temp))\n",
    "    timeseries_label_oversample.append(np.asarray(oversample_label_temp))\n",
    "    assert(len(oversample_label_temp) == len(oversample_temp))\n",
    "for i in range(timeseries_num):\n",
    "    print(Counter(timeseries_label_oversample[i]))\n",
    "assert(len(timeseries_oversample) == len(timeseries_all))"
   ]
  },
  {
   "cell_type": "code",
   "execution_count": 29,
   "metadata": {},
   "outputs": [],
   "source": [
    "import pickle\n",
    "file = open('timeseries_all.txt','wb')\n",
    "pickle.dump(timeseries_all,file)\n",
    "pickle.dump(timeseries_label,file)\n",
    "file.close()"
   ]
  },
  {
   "cell_type": "code",
   "execution_count": 30,
   "metadata": {},
   "outputs": [],
   "source": [
    "file = open('timeseries_oversample.txt','wb')\n",
    "pickle.dump(timeseries_oversample,file)\n",
    "pickle.dump(timeseries_label_oversample,file)\n",
    "file.close()"
   ]
  },
  {
   "cell_type": "code",
   "execution_count": 34,
   "metadata": {},
   "outputs": [],
   "source": [
    "def get_features_from_a_timeseries(timeseries):\n",
    "    window = [10, 20, 40, 60]\n",
    "    features = []\n",
    "    last_value = []\n",
    "    for i in range(len(window)):\n",
    "        last_value.append([0,0,0,0,0])\n",
    "            \n",
    "    for i in range(len(timeseries)):\n",
    "        data = []\n",
    "        for j in range(len(window)):\n",
    "            w = window[j]\n",
    "            if i < w - 1:\n",
    "                mean1 = np.mean(timeseries[0:i+1])\n",
    "                var1 = np.var(timeseries[0:i+1])\n",
    "                median1 = np.median(timeseries[0:i+1])\n",
    "                quarter1 = np.percentile(timeseries[0:i+1],25)\n",
    "                quarter3 = np.percentile(timeseries[0:i+1],75)\n",
    "            else:\n",
    "                mean1 = np.mean(timeseries[i-w+1:i+1])\n",
    "                var1 = np.var(timeseries[i-w+1:i+1])\n",
    "                median1 = np.median(timeseries[i-w+1:i+1])\n",
    "                quarter1 = np.percentile(timeseries[i-w+1:i+1],25)\n",
    "                quarter3 = np.percentile(timeseries[i-w+1:i+1],75)\n",
    "            data.append(mean1)\n",
    "            data.append(var1)\n",
    "            data.append(median1)\n",
    "            data.append(quarter1)\n",
    "            data.append(quarter3)\n",
    "            temp_value = [mean1,var1,median1,quarter1,quarter3]\n",
    "            if i == 0:\n",
    "                for m in range(5):\n",
    "                    data.append(0)\n",
    "                    data.append(0)\n",
    "                    last_value[j][m] = temp_value[m]\n",
    "            else:\n",
    "                for m in range(5):\n",
    "                    data.append(temp_value[m] - last_value[j][m])\n",
    "                    data.append((temp_value[m] - last_value[j][m]) / (last_value[j][m]+0.00000001))\n",
    "                    last_value[j][m] = temp_value[m]\n",
    "        if i == 0:\n",
    "            diff = 0\n",
    "            diff_ratio = 0\n",
    "        else:\n",
    "            diff = timeseries[i] - timeseries[i-1]\n",
    "            diff_ratio = (timeseries[i] - timeseries[i-1]) / (timeseries[i-1] + 0.00000001)\n",
    "        data.append(diff)\n",
    "        data.append(diff_ratio)\n",
    "        assert(len(data) == 62)\n",
    "        features.append(data)\n",
    "    assert(len(features) == len(timeseries))\n",
    "    return features\n",
    "                "
   ]
  },
  {
   "cell_type": "code",
   "execution_count": 38,
   "metadata": {},
   "outputs": [
    {
     "name": "stdout",
     "output_type": "stream",
     "text": [
      "(4785216, 62)\n",
      "26\n"
     ]
    }
   ],
   "source": [
    "timeseries_features = None\n",
    "scaler_list = [] \n",
    "for i in range(timeseries_num):\n",
    "    features_temp = get_features_from_a_timeseries(timeseries_oversample[i])\n",
    "    assert(len(features_temp)==len(timeseries_label_oversample[i]))\n",
    "    scaler_temp = StandardScaler()\n",
    "    features_temp = scaler_temp.fit_transform(features_temp)\n",
    "    scaler_list.append(scaler_temp)\n",
    "    if i==0:\n",
    "        timeseries_features = features_temp\n",
    "    else:\n",
    "        timeseries_features = np.concatenate((timeseries_features, features_temp), axis = 0)\n",
    "    \n",
    "print(timeseries_features.shape)\n",
    "print(len(scaler_list))"
   ]
  },
  {
   "cell_type": "code",
   "execution_count": 39,
   "metadata": {},
   "outputs": [],
   "source": [
    "timeseries_features = timeseries_features.T\n",
    "file = open('timeseries_features.txt','wb')\n",
    "pickle.dump(timeseries_features,file)\n",
    "pickle.dump(scaler_list,file)\n",
    "file.close()"
   ]
  },
  {
   "cell_type": "code",
   "execution_count": 40,
   "metadata": {},
   "outputs": [
    {
     "name": "stdout",
     "output_type": "stream",
     "text": [
      "(4785216,)\n",
      "(62, 4785216)\n"
     ]
    }
   ],
   "source": [
    "connect_labels = []\n",
    "for i in range(timeseries_num):\n",
    "    connect_labels = connect_labels + list(timeseries_label_oversample[i])\n",
    "connect_labels = np.array(connect_labels)\n",
    "print(connect_labels.shape)\n",
    "print(timeseries_features.shape)"
   ]
  },
  {
   "cell_type": "code",
   "execution_count": 41,
   "metadata": {},
   "outputs": [],
   "source": [
    "file = open('connect_labels.txt','wb')\n",
    "pickle.dump(connect_labels,file)\n",
    "file.close()"
   ]
  },
  {
   "cell_type": "code",
   "execution_count": 42,
   "metadata": {},
   "outputs": [
    {
     "name": "stdout",
     "output_type": "stream",
     "text": [
      "(4785216, 62)\n"
     ]
    }
   ],
   "source": [
    "timeseries_features = timeseries_features.T\n",
    "print(timeseries_features.shape)"
   ]
  },
  {
   "cell_type": "code",
   "execution_count": 43,
   "metadata": {},
   "outputs": [],
   "source": [
    "# import Keras libraries\n",
    "from keras.models import Sequential\n",
    "from keras.layers import Dense\n",
    "from keras.layers import Dropout\n",
    "from keras.layers import Activation\n",
    "from keras.layers.normalization import BatchNormalization\n",
    "from keras.regularizers import l2\n",
    "\n",
    "from sklearn.metrics import precision_score\n",
    "from sklearn.metrics import recall_score\n",
    "from sklearn.metrics import f1_score\n",
    "\n",
    "# fix random seed for reproducibility\n",
    "np.random.seed(5)"
   ]
  },
  {
   "cell_type": "code",
   "execution_count": 44,
   "metadata": {},
   "outputs": [
    {
     "name": "stdout",
     "output_type": "stream",
     "text": [
      "WARNING:tensorflow:From /root/anaconda3/envs/py37/lib/python3.7/site-packages/keras/backend/tensorflow_backend.py:74: The name tf.get_default_graph is deprecated. Please use tf.compat.v1.get_default_graph instead.\n",
      "\n",
      "WARNING:tensorflow:From /root/anaconda3/envs/py37/lib/python3.7/site-packages/keras/backend/tensorflow_backend.py:517: The name tf.placeholder is deprecated. Please use tf.compat.v1.placeholder instead.\n",
      "\n",
      "WARNING:tensorflow:From /root/anaconda3/envs/py37/lib/python3.7/site-packages/keras/backend/tensorflow_backend.py:4138: The name tf.random_uniform is deprecated. Please use tf.random.uniform instead.\n",
      "\n",
      "WARNING:tensorflow:From /root/anaconda3/envs/py37/lib/python3.7/site-packages/keras/backend/tensorflow_backend.py:133: The name tf.placeholder_with_default is deprecated. Please use tf.compat.v1.placeholder_with_default instead.\n",
      "\n",
      "WARNING:tensorflow:From /root/anaconda3/envs/py37/lib/python3.7/site-packages/keras/backend/tensorflow_backend.py:3445: calling dropout (from tensorflow.python.ops.nn_ops) with keep_prob is deprecated and will be removed in a future version.\n",
      "Instructions for updating:\n",
      "Please use `rate` instead of `keep_prob`. Rate should be set to `rate = 1 - keep_prob`.\n",
      "WARNING:tensorflow:From /root/anaconda3/envs/py37/lib/python3.7/site-packages/keras/optimizers.py:790: The name tf.train.Optimizer is deprecated. Please use tf.compat.v1.train.Optimizer instead.\n",
      "\n",
      "WARNING:tensorflow:From /root/anaconda3/envs/py37/lib/python3.7/site-packages/keras/backend/tensorflow_backend.py:3376: The name tf.log is deprecated. Please use tf.math.log instead.\n",
      "\n",
      "WARNING:tensorflow:From /root/anaconda3/envs/py37/lib/python3.7/site-packages/tensorflow_core/python/ops/nn_impl.py:183: where (from tensorflow.python.ops.array_ops) is deprecated and will be removed in a future version.\n",
      "Instructions for updating:\n",
      "Use tf.where in 2.0, which has the same broadcast rule as np.where\n"
     ]
    }
   ],
   "source": [
    "model = Sequential()\n",
    "model.add(Dense(128, input_dim=62))\n",
    "model.add(BatchNormalization())\n",
    "model.add(Activation('relu'))\n",
    "model.add(Dropout(0.2))\n",
    "\n",
    "model.add(Dense(128))\n",
    "model.add(BatchNormalization())\n",
    "model.add(Activation('relu'))\n",
    "model.add(Dropout(0.2))\n",
    "\n",
    "model.add(Dense(1))\n",
    "model.add(BatchNormalization())\n",
    "model.add(Activation('sigmoid'))\n",
    "\n",
    "\n",
    "model.compile(loss='binary_crossentropy', optimizer='adam', metrics=['accuracy','binary_accuracy'])"
   ]
  },
  {
   "cell_type": "code",
   "execution_count": 45,
   "metadata": {},
   "outputs": [
    {
     "name": "stdout",
     "output_type": "stream",
     "text": [
      "[0. 0. 0. ... 0. 0. 0.]\n",
      "[[-3.18154113e-01 -4.35271286e-01 -3.08292311e-01 ... -3.85405930e-03\n",
      "  -6.57747447e-06 -8.16809609e-02]\n",
      " [-4.07072349e-01 -4.17547752e-01 -3.95611087e-01 ... -2.08978377e+00\n",
      "  -2.86146831e-01 -3.96273438e-01]\n",
      " [-3.26622508e-01 -3.94438829e-01 -3.08292311e-01 ...  5.74467931e+00\n",
      "   5.31396793e-01  5.40082459e-01]\n",
      " ...\n",
      " [-9.12215594e-01 -8.26560643e-01 -9.43588039e-01 ... -2.13887348e-01\n",
      "   2.82205950e-01 -6.53474325e-02]\n",
      " [-9.01833340e-01 -8.26891964e-01 -9.18630573e-01 ... -5.39539447e-03\n",
      "  -9.63642667e-02 -1.29086885e-01]\n",
      " [-9.01949559e-01 -8.26885010e-01 -9.19206515e-01 ... -4.04356124e-01\n",
      "  -7.55890719e-02 -1.26533514e-01]]\n"
     ]
    }
   ],
   "source": [
    "print(connect_labels)\n",
    "print(timeseries_features)"
   ]
  },
  {
   "cell_type": "code",
   "execution_count": 47,
   "metadata": {},
   "outputs": [
    {
     "name": "stdout",
     "output_type": "stream",
     "text": [
      "Keras: start to train DNN!\n",
      "WARNING:tensorflow:From /root/anaconda3/envs/py37/lib/python3.7/site-packages/keras/backend/tensorflow_backend.py:986: The name tf.assign_add is deprecated. Please use tf.compat.v1.assign_add instead.\n",
      "\n",
      "WARNING:tensorflow:From /root/anaconda3/envs/py37/lib/python3.7/site-packages/keras/backend/tensorflow_backend.py:973: The name tf.assign is deprecated. Please use tf.compat.v1.assign instead.\n",
      "\n",
      "WARNING:tensorflow:From /root/anaconda3/envs/py37/lib/python3.7/site-packages/keras/backend/tensorflow_backend.py:2741: The name tf.Session is deprecated. Please use tf.compat.v1.Session instead.\n",
      "\n",
      "Epoch 1/100\n",
      "WARNING:tensorflow:From /root/anaconda3/envs/py37/lib/python3.7/site-packages/keras/backend/tensorflow_backend.py:174: The name tf.get_default_session is deprecated. Please use tf.compat.v1.get_default_session instead.\n",
      "\n",
      "WARNING:tensorflow:From /root/anaconda3/envs/py37/lib/python3.7/site-packages/keras/backend/tensorflow_backend.py:181: The name tf.ConfigProto is deprecated. Please use tf.compat.v1.ConfigProto instead.\n",
      "\n",
      "WARNING:tensorflow:From /root/anaconda3/envs/py37/lib/python3.7/site-packages/keras/backend/tensorflow_backend.py:190: The name tf.global_variables is deprecated. Please use tf.compat.v1.global_variables instead.\n",
      "\n",
      "WARNING:tensorflow:From /root/anaconda3/envs/py37/lib/python3.7/site-packages/keras/backend/tensorflow_backend.py:199: The name tf.is_variable_initialized is deprecated. Please use tf.compat.v1.is_variable_initialized instead.\n",
      "\n",
      "WARNING:tensorflow:From /root/anaconda3/envs/py37/lib/python3.7/site-packages/keras/backend/tensorflow_backend.py:206: The name tf.variables_initializer is deprecated. Please use tf.compat.v1.variables_initializer instead.\n",
      "\n",
      "4785216/4785216 [==============================] - 48s 10us/step - loss: 0.4220 - acc: 0.8216 - binary_accuracy: 0.8216\n",
      "Epoch 2/100\n",
      "4785216/4785216 [==============================] - 45s 9us/step - loss: 0.3182 - acc: 0.8709 - binary_accuracy: 0.8709\n",
      "Epoch 3/100\n",
      "4785216/4785216 [==============================] - 45s 9us/step - loss: 0.2836 - acc: 0.8833 - binary_accuracy: 0.8833\n",
      "Epoch 4/100\n",
      "4785216/4785216 [==============================] - 45s 9us/step - loss: 0.2643 - acc: 0.8904 - binary_accuracy: 0.8904\n",
      "Epoch 5/100\n",
      "4785216/4785216 [==============================] - 45s 9us/step - loss: 0.2510 - acc: 0.8958 - binary_accuracy: 0.8958\n",
      "Epoch 6/100\n",
      "4785216/4785216 [==============================] - 45s 9us/step - loss: 0.2420 - acc: 0.8995 - binary_accuracy: 0.8995\n",
      "Epoch 7/100\n",
      "4785216/4785216 [==============================] - 45s 9us/step - loss: 0.2363 - acc: 0.9021 - binary_accuracy: 0.9021\n",
      "Epoch 8/100\n",
      "4785216/4785216 [==============================] - 46s 10us/step - loss: 0.2307 - acc: 0.9048 - binary_accuracy: 0.9048\n",
      "Epoch 9/100\n",
      "4785216/4785216 [==============================] - 45s 10us/step - loss: 0.2278 - acc: 0.9060 - binary_accuracy: 0.9060\n",
      "Epoch 10/100\n",
      "4785216/4785216 [==============================] - 45s 9us/step - loss: 0.2237 - acc: 0.9079 - binary_accuracy: 0.9079\n",
      "Epoch 11/100\n",
      "4785216/4785216 [==============================] - 45s 9us/step - loss: 0.2215 - acc: 0.9089 - binary_accuracy: 0.9089\n",
      "Epoch 12/100\n",
      "4785216/4785216 [==============================] - 45s 9us/step - loss: 0.2180 - acc: 0.9107 - binary_accuracy: 0.9107\n",
      "Epoch 13/100\n",
      "4785216/4785216 [==============================] - 45s 9us/step - loss: 0.2168 - acc: 0.9112 - binary_accuracy: 0.9112\n",
      "Epoch 14/100\n",
      "4785216/4785216 [==============================] - 45s 9us/step - loss: 0.2147 - acc: 0.9123 - binary_accuracy: 0.9123\n",
      "Epoch 15/100\n",
      "4785216/4785216 [==============================] - 45s 9us/step - loss: 0.2122 - acc: 0.9134 - binary_accuracy: 0.9134\n",
      "Epoch 16/100\n",
      "4785216/4785216 [==============================] - 45s 9us/step - loss: 0.2097 - acc: 0.9145 - binary_accuracy: 0.9145\n",
      "Epoch 17/100\n",
      "4785216/4785216 [==============================] - 45s 9us/step - loss: 0.2091 - acc: 0.9148 - binary_accuracy: 0.9148\n",
      "Epoch 18/100\n",
      "4785216/4785216 [==============================] - 45s 9us/step - loss: 0.2066 - acc: 0.9160 - binary_accuracy: 0.9160\n",
      "Epoch 19/100\n",
      "4785216/4785216 [==============================] - 45s 9us/step - loss: 0.2055 - acc: 0.9166 - binary_accuracy: 0.9166\n",
      "Epoch 20/100\n",
      "4785216/4785216 [==============================] - 45s 9us/step - loss: 0.2044 - acc: 0.9170 - binary_accuracy: 0.9170\n",
      "Epoch 21/100\n",
      "4785216/4785216 [==============================] - 45s 9us/step - loss: 0.2034 - acc: 0.9174 - binary_accuracy: 0.9174\n",
      "Epoch 22/100\n",
      "4785216/4785216 [==============================] - 45s 9us/step - loss: 0.2019 - acc: 0.9183 - binary_accuracy: 0.9183\n",
      "Epoch 23/100\n",
      "4785216/4785216 [==============================] - 45s 9us/step - loss: 0.2010 - acc: 0.9185 - binary_accuracy: 0.9185\n",
      "Epoch 24/100\n",
      "4785216/4785216 [==============================] - 45s 9us/step - loss: 0.1996 - acc: 0.9192 - binary_accuracy: 0.9192\n",
      "Epoch 25/100\n",
      "4785216/4785216 [==============================] - 45s 9us/step - loss: 0.1994 - acc: 0.9192 - binary_accuracy: 0.9192\n",
      "Epoch 26/100\n",
      "4785216/4785216 [==============================] - 45s 9us/step - loss: 0.1981 - acc: 0.9198 - binary_accuracy: 0.9198\n",
      "Epoch 27/100\n",
      "4785216/4785216 [==============================] - 45s 10us/step - loss: 0.1976 - acc: 0.9200 - binary_accuracy: 0.9200\n",
      "Epoch 28/100\n",
      "4785216/4785216 [==============================] - 45s 9us/step - loss: 0.1958 - acc: 0.9209 - binary_accuracy: 0.9209\n",
      "Epoch 29/100\n",
      "4785216/4785216 [==============================] - 45s 9us/step - loss: 0.1954 - acc: 0.9212 - binary_accuracy: 0.9212\n",
      "Epoch 30/100\n",
      "4785216/4785216 [==============================] - 45s 9us/step - loss: 0.1945 - acc: 0.9215 - binary_accuracy: 0.9215\n",
      "Epoch 31/100\n",
      "4785216/4785216 [==============================] - 45s 9us/step - loss: 0.1943 - acc: 0.9216 - binary_accuracy: 0.9216\n",
      "Epoch 32/100\n",
      "4785216/4785216 [==============================] - 45s 9us/step - loss: 0.1925 - acc: 0.9225 - binary_accuracy: 0.9225\n",
      "Epoch 33/100\n",
      "4785216/4785216 [==============================] - 45s 9us/step - loss: 0.1924 - acc: 0.9225 - binary_accuracy: 0.9225\n",
      "Epoch 34/100\n",
      "4785216/4785216 [==============================] - 46s 10us/step - loss: 0.1925 - acc: 0.9224 - binary_accuracy: 0.9224\n",
      "Epoch 35/100\n",
      "4785216/4785216 [==============================] - 46s 10us/step - loss: 0.1917 - acc: 0.9228 - binary_accuracy: 0.9228\n",
      "Epoch 36/100\n",
      "4785216/4785216 [==============================] - 45s 9us/step - loss: 0.1910 - acc: 0.9232 - binary_accuracy: 0.9232\n",
      "Epoch 37/100\n",
      "4785216/4785216 [==============================] - 45s 9us/step - loss: 0.1906 - acc: 0.9235 - binary_accuracy: 0.9235\n",
      "Epoch 38/100\n",
      "4785216/4785216 [==============================] - 45s 10us/step - loss: 0.1900 - acc: 0.9235 - binary_accuracy: 0.9235\n",
      "Epoch 39/100\n",
      "4785216/4785216 [==============================] - 45s 9us/step - loss: 0.1888 - acc: 0.9242 - binary_accuracy: 0.9242\n",
      "Epoch 40/100\n",
      "4785216/4785216 [==============================] - 46s 10us/step - loss: 0.1886 - acc: 0.9244 - binary_accuracy: 0.9244\n",
      "Epoch 41/100\n",
      "4785216/4785216 [==============================] - 45s 9us/step - loss: 0.1887 - acc: 0.9240 - binary_accuracy: 0.9240\n",
      "Epoch 42/100\n",
      "4785216/4785216 [==============================] - 46s 10us/step - loss: 0.1890 - acc: 0.9242 - binary_accuracy: 0.9242\n",
      "Epoch 43/100\n",
      "4785216/4785216 [==============================] - 46s 10us/step - loss: 0.1874 - acc: 0.9247 - binary_accuracy: 0.9247\n",
      "Epoch 44/100\n",
      "4785216/4785216 [==============================] - 46s 10us/step - loss: 0.1867 - acc: 0.9251 - binary_accuracy: 0.9251\n",
      "Epoch 45/100\n",
      "4785216/4785216 [==============================] - 45s 9us/step - loss: 0.1863 - acc: 0.9253 - binary_accuracy: 0.9253\n",
      "Epoch 46/100\n",
      "4785216/4785216 [==============================] - 45s 9us/step - loss: 0.1867 - acc: 0.9251 - binary_accuracy: 0.9251\n",
      "Epoch 47/100\n",
      "4785216/4785216 [==============================] - 45s 9us/step - loss: 0.1858 - acc: 0.9255 - binary_accuracy: 0.9255\n",
      "Epoch 48/100\n",
      "4785216/4785216 [==============================] - 45s 10us/step - loss: 0.1854 - acc: 0.9256 - binary_accuracy: 0.9256\n",
      "Epoch 49/100\n",
      "4785216/4785216 [==============================] - 45s 9us/step - loss: 0.1855 - acc: 0.9257 - binary_accuracy: 0.9257\n",
      "Epoch 50/100\n"
     ]
    },
    {
     "name": "stdout",
     "output_type": "stream",
     "text": [
      "4785216/4785216 [==============================] - 46s 10us/step - loss: 0.1845 - acc: 0.9261 - binary_accuracy: 0.9261\n",
      "Epoch 51/100\n",
      "4785216/4785216 [==============================] - 46s 10us/step - loss: 0.1846 - acc: 0.9261 - binary_accuracy: 0.9261\n",
      "Epoch 52/100\n",
      "4785216/4785216 [==============================] - 45s 9us/step - loss: 0.1838 - acc: 0.9264 - binary_accuracy: 0.9264\n",
      "Epoch 53/100\n",
      "4785216/4785216 [==============================] - 45s 9us/step - loss: 0.1838 - acc: 0.9264 - binary_accuracy: 0.9264\n",
      "Epoch 54/100\n",
      "4785216/4785216 [==============================] - 46s 10us/step - loss: 0.1828 - acc: 0.9269 - binary_accuracy: 0.9269\n",
      "Epoch 55/100\n",
      "4785216/4785216 [==============================] - 46s 10us/step - loss: 0.1827 - acc: 0.9269 - binary_accuracy: 0.9269\n",
      "Epoch 56/100\n",
      "4785216/4785216 [==============================] - 46s 10us/step - loss: 0.1833 - acc: 0.9266 - binary_accuracy: 0.9266\n",
      "Epoch 57/100\n",
      "4785216/4785216 [==============================] - 46s 10us/step - loss: 0.1822 - acc: 0.9271 - binary_accuracy: 0.9271\n",
      "Epoch 58/100\n",
      "4785216/4785216 [==============================] - 46s 10us/step - loss: 0.1819 - acc: 0.9272 - binary_accuracy: 0.9272\n",
      "Epoch 59/100\n",
      "4785216/4785216 [==============================] - 46s 10us/step - loss: 0.1819 - acc: 0.9272 - binary_accuracy: 0.9272\n",
      "Epoch 60/100\n",
      "4785216/4785216 [==============================] - 45s 9us/step - loss: 0.1811 - acc: 0.9277 - binary_accuracy: 0.9277\n",
      "Epoch 61/100\n",
      "4785216/4785216 [==============================] - 46s 10us/step - loss: 0.1814 - acc: 0.9275 - binary_accuracy: 0.9275\n",
      "Epoch 62/100\n",
      "4785216/4785216 [==============================] - 46s 10us/step - loss: 0.1812 - acc: 0.9275 - binary_accuracy: 0.9275\n",
      "Epoch 63/100\n",
      "4785216/4785216 [==============================] - 46s 10us/step - loss: 0.1811 - acc: 0.9275 - binary_accuracy: 0.9275\n",
      "Epoch 64/100\n",
      "4785216/4785216 [==============================] - 46s 10us/step - loss: 0.1807 - acc: 0.9277 - binary_accuracy: 0.9277\n",
      "Epoch 65/100\n",
      "4785216/4785216 [==============================] - 45s 9us/step - loss: 0.1792 - acc: 0.9284 - binary_accuracy: 0.9284\n",
      "Epoch 66/100\n",
      "4785216/4785216 [==============================] - 46s 10us/step - loss: 0.1799 - acc: 0.9281 - binary_accuracy: 0.9281\n",
      "Epoch 67/100\n",
      "4785216/4785216 [==============================] - 45s 10us/step - loss: 0.1801 - acc: 0.9281 - binary_accuracy: 0.9281\n",
      "Epoch 68/100\n",
      "4785216/4785216 [==============================] - 45s 9us/step - loss: 0.1796 - acc: 0.9283 - binary_accuracy: 0.9283\n",
      "Epoch 69/100\n",
      "4785216/4785216 [==============================] - 46s 10us/step - loss: 0.1790 - acc: 0.9286 - binary_accuracy: 0.9286\n",
      "Epoch 70/100\n",
      "4785216/4785216 [==============================] - 54s 11us/step - loss: 0.1791 - acc: 0.9283 - binary_accuracy: 0.9283\n",
      "Epoch 71/100\n",
      "4785216/4785216 [==============================] - 48s 10us/step - loss: 0.1793 - acc: 0.9284 - binary_accuracy: 0.9284\n",
      "Epoch 72/100\n",
      "4785216/4785216 [==============================] - 45s 10us/step - loss: 0.1789 - acc: 0.9287 - binary_accuracy: 0.9287\n",
      "Epoch 73/100\n",
      "4785216/4785216 [==============================] - 46s 10us/step - loss: 0.1783 - acc: 0.9289 - binary_accuracy: 0.9289\n",
      "Epoch 74/100\n",
      "4785216/4785216 [==============================] - 46s 10us/step - loss: 0.1785 - acc: 0.9287 - binary_accuracy: 0.9287\n",
      "Epoch 75/100\n",
      "4785216/4785216 [==============================] - 45s 9us/step - loss: 0.1776 - acc: 0.9292 - binary_accuracy: 0.9292\n",
      "Epoch 76/100\n",
      "4785216/4785216 [==============================] - 45s 9us/step - loss: 0.1780 - acc: 0.9289 - binary_accuracy: 0.9289\n",
      "Epoch 77/100\n",
      "4785216/4785216 [==============================] - 45s 9us/step - loss: 0.1773 - acc: 0.9293 - binary_accuracy: 0.9293\n",
      "Epoch 78/100\n",
      "4785216/4785216 [==============================] - 45s 9us/step - loss: 0.1769 - acc: 0.9294 - binary_accuracy: 0.9294\n",
      "Epoch 79/100\n",
      "4785216/4785216 [==============================] - 45s 9us/step - loss: 0.1770 - acc: 0.9293 - binary_accuracy: 0.9293\n",
      "Epoch 80/100\n",
      "4785216/4785216 [==============================] - 45s 9us/step - loss: 0.1758 - acc: 0.9299 - binary_accuracy: 0.9299\n",
      "Epoch 81/100\n",
      "4785216/4785216 [==============================] - 45s 9us/step - loss: 0.1763 - acc: 0.9295 - binary_accuracy: 0.9295\n",
      "Epoch 82/100\n",
      "4785216/4785216 [==============================] - 45s 9us/step - loss: 0.1769 - acc: 0.9295 - binary_accuracy: 0.9295\n",
      "Epoch 83/100\n",
      "4785216/4785216 [==============================] - 45s 9us/step - loss: 0.1766 - acc: 0.9297 - binary_accuracy: 0.9297\n",
      "Epoch 84/100\n",
      "4785216/4785216 [==============================] - 45s 9us/step - loss: 0.1765 - acc: 0.9297 - binary_accuracy: 0.9297\n",
      "Epoch 85/100\n",
      "4785216/4785216 [==============================] - 45s 9us/step - loss: 0.1762 - acc: 0.9299 - binary_accuracy: 0.9299\n",
      "Epoch 86/100\n",
      "4785216/4785216 [==============================] - 45s 9us/step - loss: 0.1763 - acc: 0.9297 - binary_accuracy: 0.9297\n",
      "Epoch 87/100\n",
      "4785216/4785216 [==============================] - 45s 9us/step - loss: 0.1757 - acc: 0.9299 - binary_accuracy: 0.9299\n",
      "Epoch 88/100\n",
      "4785216/4785216 [==============================] - 45s 9us/step - loss: 0.1760 - acc: 0.9297 - binary_accuracy: 0.9297\n",
      "Epoch 89/100\n",
      "4785216/4785216 [==============================] - 45s 9us/step - loss: 0.1756 - acc: 0.9300 - binary_accuracy: 0.9300\n",
      "Epoch 90/100\n",
      "4785216/4785216 [==============================] - 45s 9us/step - loss: 0.1751 - acc: 0.9303 - binary_accuracy: 0.9303\n",
      "Epoch 91/100\n",
      "4785216/4785216 [==============================] - 45s 9us/step - loss: 0.1751 - acc: 0.9303 - binary_accuracy: 0.9303\n",
      "Epoch 92/100\n",
      "4785216/4785216 [==============================] - 45s 9us/step - loss: 0.1751 - acc: 0.9302 - binary_accuracy: 0.9302\n",
      "Epoch 93/100\n",
      "4785216/4785216 [==============================] - 45s 9us/step - loss: 0.1752 - acc: 0.9304 - binary_accuracy: 0.9304\n",
      "Epoch 94/100\n",
      "4785216/4785216 [==============================] - 45s 9us/step - loss: 0.1750 - acc: 0.9302 - binary_accuracy: 0.9302\n",
      "Epoch 95/100\n",
      "4785216/4785216 [==============================] - 45s 9us/step - loss: 0.1739 - acc: 0.9308 - binary_accuracy: 0.9308\n",
      "Epoch 96/100\n",
      "4785216/4785216 [==============================] - 45s 9us/step - loss: 0.1744 - acc: 0.9305 - binary_accuracy: 0.9305\n",
      "Epoch 97/100\n",
      "4785216/4785216 [==============================] - 45s 9us/step - loss: 0.1739 - acc: 0.9309 - binary_accuracy: 0.9309\n",
      "Epoch 98/100\n",
      "4785216/4785216 [==============================] - 45s 9us/step - loss: 0.1742 - acc: 0.9308 - binary_accuracy: 0.9308\n",
      "Epoch 99/100\n",
      "4785216/4785216 [==============================] - 45s 9us/step - loss: 0.1741 - acc: 0.9307 - binary_accuracy: 0.9307\n",
      "Epoch 100/100\n",
      "4785216/4785216 [==============================] - 45s 10us/step - loss: 0.1743 - acc: 0.9307 - binary_accuracy: 0.9307\n",
      "It took 4549 seconds to train the model!\n"
     ]
    }
   ],
   "source": [
    "import time\n",
    "print('Keras: start to train DNN!')\n",
    "start_time = time.time()\n",
    "history = model.fit(timeseries_features, connect_labels, epochs=100, batch_size=5000, verbose=1)\n",
    "\n",
    "end_time = time.time()\n",
    "print('It took %d seconds to train the model!' %(end_time-start_time))"
   ]
  },
  {
   "cell_type": "code",
   "execution_count": 49,
   "metadata": {},
   "outputs": [],
   "source": [
    "file = open('model.txt','wb')\n",
    "pickle.dump(model,file)\n",
    "pickle.dump(history,file)\n",
    "file.close()"
   ]
  },
  {
   "cell_type": "markdown",
   "metadata": {},
   "source": [
    "模型训练完毕，接下来开始对测试集进行读取，以及特征提取\n",
    "\n",
    "\n",
    "\n"
   ]
  },
  {
   "cell_type": "code",
   "execution_count": 50,
   "metadata": {},
   "outputs": [],
   "source": [
    "test_data = np.loadtxt('../input/test.csv', str, delimiter = ',', skiprows=1)\n",
    "test_value = np.loadtxt('../input/test.csv', delimiter = ',', skiprows=1, usecols=[1])\n",
    "leng_test = len(test_data)"
   ]
  },
  {
   "cell_type": "code",
   "execution_count": 51,
   "metadata": {},
   "outputs": [
    {
     "data": {
      "text/plain": [
       "(2345211,)"
      ]
     },
     "execution_count": 51,
     "metadata": {},
     "output_type": "execute_result"
    }
   ],
   "source": [
    "test_value.reshape(leng_test,1)\n",
    "test_value.shape"
   ]
  },
  {
   "cell_type": "code",
   "execution_count": 52,
   "metadata": {
    "scrolled": true
   },
   "outputs": [
    {
     "name": "stdout",
     "output_type": "stream",
     "text": [
      "[array([2.71929836, 2.45614028, 2.33333325, ..., 1.46753252, 1.44155848,\n",
      "       1.4545455 ]), array([ 0.61379214,  0.72330527,  0.72330527, ...,  0.06622652,\n",
      "       -0.04328661, -0.26231286]), array([ 0.08339421,  0.07542374,  0.07589259, ..., -0.29456217,\n",
      "       -0.29134273, -0.28743564]), array([9.63912960e+08, 9.64395008e+08, 1.03828864e+09, ...,\n",
      "       1.18040589e+09, 1.17810714e+09, 1.17690176e+09]), array([5.        , 5.5       , 5.1500001 , ..., 3.5       , 3.8499999 ,\n",
      "       2.79999995]), array([1414.8125  , 1343.8125  , 1367.4375  , ..., 1463.705933,\n",
      "       1487.529419, 1431.411743]), array([1620., 1609., 1610., ..., 1867., 1849., 1816.]), array([0.8444066 , 0.40438471, 0.92587745, ..., 0.12666432, 0.20291227,\n",
      "       0.21687184]), array([1596., 1491., 1411., ..., 1724., 1656., 1619.]), array([0.13436497, 0.12777471, 0.13799619, ..., 0.10366487, 0.10001522,\n",
      "       0.10048587]), array([0.13218766, 0.13275537, 0.13674607, ..., 0.09728213, 0.09286509,\n",
      "       0.08449186]), array([2580., 2645., 2527., ..., 1800., 1739., 1742.]), array([0.16136951, 0.15721134, 0.16209025, ..., 0.2122068 , 0.20901665,\n",
      "       0.20777578]), array([0.15569544, 0.15411967, 0.15874972, ..., 0.06907714, 0.06541979,\n",
      "       0.06592559]), array([2713., 2734., 2561., ...,  770.,  678.,  724.]), array([3263., 3018., 2863., ..., 6248., 6310., 6058.]), array([36.58333206, 35.83333206, 36.58333206, ..., 22.83333397,\n",
      "       22.66666603, 22.08333397]), array([0.21680924, 0.2175812 , 0.21920324, ..., 0.18768188, 0.18563179,\n",
      "       0.18363579]), array([2290., 2350., 2371., ..., 2262., 2328., 2194.]), array([0., 0., 0., ..., 0., 0., 0.]), array([2706., 2614., 2591., ..., 1954., 1954., 1873.]), array([ 1.55096568,  1.34636007,  1.2904476 , ..., -0.03715866,\n",
      "       -0.04183558, -0.00561505]), array([1.08574938e+09, 1.07270912e+09, 1.06353952e+09, ...,\n",
      "       9.30710976e+08, 9.27908288e+08, 9.30293248e+08]), array([1603., 1629., 1562., ..., 1638., 1641., 1681.]), array([4.91666651, 4.91666651, 4.75      , ..., 2.        , 2.        ,\n",
      "       2.        ]), array([3163., 3218., 3380., ..., 6440., 6432., 6073.])]\n"
     ]
    }
   ],
   "source": [
    "test_id_list = np.unique(test_data[:,2])\n",
    "testseries_all = []\n",
    "\n",
    "\n",
    "for kpi_id in test_id_list:\n",
    "    mask = (test_data[:, 2]==kpi_id)\n",
    "    testseries_all.append(test_value[mask])\n",
    "print(testseries_all)"
   ]
  },
  {
   "cell_type": "code",
   "execution_count": 53,
   "metadata": {},
   "outputs": [
    {
     "name": "stdout",
     "output_type": "stream",
     "text": [
      "26\n"
     ]
    }
   ],
   "source": [
    "\n",
    "testseries_num = len(testseries_all)\n",
    "print(testseries_num)"
   ]
  },
  {
   "cell_type": "code",
   "execution_count": 54,
   "metadata": {},
   "outputs": [],
   "source": [
    "file = open('testseries_all.txt','wb')\n",
    "pickle.dump(testseries_all,file)\n",
    "file.close()"
   ]
  },
  {
   "cell_type": "code",
   "execution_count": 55,
   "metadata": {},
   "outputs": [],
   "source": [
    "assert(len(test_id_list)==len(id_list))\n",
    "for i in range(len(test_id_list)):\n",
    "    assert(test_id_list[i]==id_list[i]) "
   ]
  },
  {
   "cell_type": "code",
   "execution_count": 56,
   "metadata": {},
   "outputs": [
    {
     "name": "stdout",
     "output_type": "stream",
     "text": [
      "(4785216, 62)\n"
     ]
    }
   ],
   "source": [
    "testseries_features = None\n",
    "for i in range(testseries_num):\n",
    "    features_temp = get_features_from_a_timeseries(testseries_all[i])\n",
    "    assert(len(features_temp)==len(testseries_all[i]))\n",
    "    features_temp = scaler_list[i].transform(features_temp)\n",
    "    if i==0:\n",
    "        testseries_features = features_temp\n",
    "    else:\n",
    "        testseries_features = np.concatenate((testseries_features, features_temp), axis = 0)\n",
    "    \n",
    "print(timeseries_features.shape)"
   ]
  },
  {
   "cell_type": "code",
   "execution_count": 57,
   "metadata": {},
   "outputs": [
    {
     "name": "stdout",
     "output_type": "stream",
     "text": [
      "(2345211, 62)\n"
     ]
    }
   ],
   "source": [
    "print(testseries_features.shape)"
   ]
  },
  {
   "cell_type": "code",
   "execution_count": 58,
   "metadata": {},
   "outputs": [
    {
     "name": "stdout",
     "output_type": "stream",
     "text": [
      "[[ 9.48986834e-01 -4.35271286e-01  9.36055335e-01 ... -3.85405930e-03\n",
      "  -6.57747447e-06 -8.16809609e-02]\n",
      " [ 7.45076417e-01 -3.42064512e-01  7.35812854e-01 ... -3.34903442e+00\n",
      "  -6.56193443e-01 -5.86189130e-01]\n",
      " [ 6.13667523e-01 -2.95714327e-01  5.35570374e-01 ... -3.43197283e+00\n",
      "  -3.06226916e-01 -3.42343365e-01]\n",
      " ...\n",
      " [ 3.58138434e-01 -8.13910911e-01  3.45177102e-01 ... -5.39539447e-03\n",
      "   2.82869021e-02 -1.12276859e-01]\n",
      " [ 3.39737051e-01 -8.26269149e-01  3.43641258e-01 ... -5.39539447e-03\n",
      "  -4.60715632e-03 -1.14986434e-01]\n",
      " [ 3.12696702e-01 -8.28133051e-01  3.34234213e-01 ... -5.39539447e-03\n",
      "  -2.07165306e-01 -1.31583550e-01]]\n"
     ]
    }
   ],
   "source": [
    "print(testseries_features)"
   ]
  },
  {
   "cell_type": "code",
   "execution_count": 61,
   "metadata": {},
   "outputs": [],
   "source": [
    "assert(len(testseries_features)==len(test_data))\n",
    "file = open('test_features.txt','wb')\n",
    "pickle.dump(testseries_features,file)\n",
    "file.close()"
   ]
  },
  {
   "cell_type": "code",
   "execution_count": 63,
   "metadata": {},
   "outputs": [
    {
     "name": "stdout",
     "output_type": "stream",
     "text": [
      "2345211/2345211 [==============================] - 5s 2us/step\n",
      "(2345211, 1)\n",
      "[[0.9841229 ]\n",
      " [1.        ]\n",
      " [0.02402413]\n",
      " ...\n",
      " [0.813516  ]\n",
      " [0.81009245]\n",
      " [0.773938  ]]\n"
     ]
    }
   ],
   "source": [
    "prediction = model.predict(testseries_features,batch_size=5000,verbose=1)\n",
    "print(prediction.shape)\n",
    "assert(len(prediction)==len(test_data))\n",
    "print(prediction)"
   ]
  },
  {
   "cell_type": "code",
   "execution_count": 64,
   "metadata": {
    "scrolled": true
   },
   "outputs": [
    {
     "name": "stdout",
     "output_type": "stream",
     "text": [
      "[[1]\n",
      " [1]\n",
      " [0]\n",
      " ...\n",
      " [1]\n",
      " [1]\n",
      " [1]]\n"
     ]
    }
   ],
   "source": [
    "predict_flag = (prediction > 0.5).astype(int)\n",
    "print(predict_flag)"
   ]
  },
  {
   "cell_type": "code",
   "execution_count": 65,
   "metadata": {},
   "outputs": [
    {
     "name": "stdout",
     "output_type": "stream",
     "text": [
      "['02e99bd4f6cfb33f' '02e99bd4f6cfb33f' '02e99bd4f6cfb33f' ...\n",
      " '88cf3a776ba00e7c' '88cf3a776ba00e7c' '88cf3a776ba00e7c']\n"
     ]
    }
   ],
   "source": [
    "print(test_data[:, 2])"
   ]
  },
  {
   "cell_type": "code",
   "execution_count": 66,
   "metadata": {
    "scrolled": false
   },
   "outputs": [
    {
     "name": "stdout",
     "output_type": "stream",
     "text": [
      "['1501475700' '1501475760' '1501475820' ... '1500825420' '1500825480'\n",
      " '1500825540']\n"
     ]
    }
   ],
   "source": [
    "print(test_data[:, 0])"
   ]
  },
  {
   "cell_type": "code",
   "execution_count": 67,
   "metadata": {},
   "outputs": [],
   "source": [
    "assert(len(test_data[:,2])==len(predict_flag))"
   ]
  },
  {
   "cell_type": "code",
   "execution_count": 71,
   "metadata": {
    "scrolled": true
   },
   "outputs": [
    {
     "name": "stdout",
     "output_type": "stream",
     "text": [
      "[1 1 0 ... 1 1 1]\n"
     ]
    }
   ],
   "source": [
    "predict_flag = (np.ravel(prediction)>0.5).astype(int)\n",
    "print(predict_flag)"
   ]
  },
  {
   "cell_type": "code",
   "execution_count": 72,
   "metadata": {},
   "outputs": [],
   "source": [
    "import pandas as pd\n",
    "predict_df = pd.DataFrame({'KPI ID': test_data[:, 2], \n",
    "                         'timestamp': test_data[:, 0], \n",
    "                         'predict': predict_flag})\n",
    "predict_df.to_csv('predict2.csv', index=False)"
   ]
  },
  {
   "cell_type": "code",
   "execution_count": null,
   "metadata": {},
   "outputs": [],
   "source": []
  }
 ],
 "metadata": {
  "kernelspec": {
   "display_name": "Python 3",
   "language": "python",
   "name": "python3"
  },
  "language_info": {
   "codemirror_mode": {
    "name": "ipython",
    "version": 3
   },
   "file_extension": ".py",
   "mimetype": "text/x-python",
   "name": "python",
   "nbconvert_exporter": "python",
   "pygments_lexer": "ipython3",
   "version": "3.7.5"
  }
 },
 "nbformat": 4,
 "nbformat_minor": 2
}
